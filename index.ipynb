{
  "cells": [
    {
      "cell_type": "raw",
      "metadata": {},
      "source": [
        "---\n",
        "title: \"index\"\n",
        "author: \"Mario\"\n",
        "format:\n",
        "  html:\n",
        "    toc: TRUE\n",
        "    toc-location: left\n",
        "    toc-title: Índice\n",
        "    toc-expand: TRUE\n",
        "warning: false\n",
        "---"
      ],
      "id": "933305ff"
    },
    {
      "cell_type": "markdown",
      "metadata": {},
      "source": [
        "```{css}\n",
        "  h1 {\n",
        "    color: darkblue;\n",
        "    background-color:powderblue;\n",
        "    padding: 10px\n",
        "\n",
        "  }\n",
        "  \n",
        "  h2 {\n",
        "    color: blue;\n",
        "  }\n",
        "```\n",
        "\n",
        "\n",
        "<h1 style=\"background: linear-gradient(to right, #ff7e5f, #feb47b); -webkit-background-clip: text; color: transparent;\">Título 2 - Degradado en Texto</h2>\n"
      ],
      "id": "33a93038"
    }
  ],
  "metadata": {
    "kernelspec": {
      "name": "python3",
      "language": "python",
      "display_name": "Python 3 (ipykernel)"
    }
  },
  "nbformat": 4,
  "nbformat_minor": 5
}